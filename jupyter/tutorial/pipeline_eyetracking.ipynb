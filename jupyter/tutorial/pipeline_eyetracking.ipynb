{
 "cells": [
  {
   "cell_type": "markdown",
   "metadata": {},
   "source": [
    "# Eye traces in pipeline"
   ]
  },
  {
   "cell_type": "code",
   "execution_count": null,
   "metadata": {},
   "outputs": [],
   "source": [
    "%pylab inline\n",
    "pylab.rcParams['figure.figsize'] = (6, 6)"
   ]
  },
  {
   "cell_type": "code",
   "execution_count": null,
   "metadata": {},
   "outputs": [],
   "source": [
    "%matplotlib inline\n",
    "import datajoint as dj\n",
    "from pipeline import vis, preprocess\n",
    "import numpy as np\n",
    "import matplotlib.pyplot as plt\n",
    "import seaborn as sns"
   ]
  },
  {
   "cell_type": "markdown",
   "metadata": {},
   "source": [
    "Eye tracking traces are in `EyeTracking` and in its part table `EyeTracking.Frame`. `EyeTracking` is a grouping table that refers to one scan and one eye video, whereas  `EyeTracking.Frame` contains the single frames. The table `BehaviorSync` is used to synchronize the behavior measurements (Treadmill, Eyetracking) to the scan frames. "
   ]
  },
  {
   "cell_type": "code",
   "execution_count": null,
   "metadata": {},
   "outputs": [],
   "source": [
    "(dj.ERD.from_sequence([preprocess.EyeTracking,preprocess.BehaviorSync]) - 1 + \\\n",
    "     dj.ERD(preprocess.EyeTracking).add_parts()).draw()"
   ]
  },
  {
   "cell_type": "markdown",
   "metadata": {},
   "source": [
    "In this notebook, we'll fetch the pupil radius and position, and plot it along with a calcium trace, all on the behavior clock. The relative times of the eye, treadmill, and trace are precise, but the clock itself starts at some arbitrary offset."
   ]
  },
  {
   "cell_type": "code",
   "execution_count": null,
   "metadata": {},
   "outputs": [],
   "source": [
    "# choose an arbitrary scan\n",
    "key = dict(animal_id=8804, session=1, scan_idx=3)"
   ]
  },
  {
   "cell_type": "markdown",
   "metadata": {},
   "source": [
    "## Eye\n"
   ]
  },
  {
   "cell_type": "code",
   "execution_count": null,
   "metadata": {},
   "outputs": [],
   "source": [
    "# Fetch the pupil radius trace and the centers\n",
    "r, center = (preprocess.EyeTracking.Frame() & key).fetch['major_r', 'center']"
   ]
  },
  {
   "cell_type": "code",
   "execution_count": null,
   "metadata": {},
   "outputs": [],
   "source": [
    "# undetected frames are nans in the radius trace\n",
    "detectedFrames = ~np.isnan(r)"
   ]
  },
  {
   "cell_type": "code",
   "execution_count": null,
   "metadata": {},
   "outputs": [],
   "source": [
    "# convert positions to a 2d numpy array\n",
    "xy = np.full((len(r),2),np.nan)\n",
    "xy[detectedFrames, :] = np.vstack(center[detectedFrames])"
   ]
  },
  {
   "cell_type": "code",
   "execution_count": null,
   "metadata": {},
   "outputs": [],
   "source": [
    "# get pupil tracking times on the behavior clock\n",
    "et = (preprocess.Eye() & key).fetch1['eye_time']"
   ]
  },
  {
   "cell_type": "code",
   "execution_count": null,
   "metadata": {},
   "outputs": [],
   "source": [
    "# plot xy position and radius\n",
    "plt.plot(et,r)\n",
    "plt.plot(et,xy)"
   ]
  },
  {
   "cell_type": "markdown",
   "metadata": {},
   "source": [
    "## Calcium Traces"
   ]
  },
  {
   "cell_type": "code",
   "execution_count": null,
   "metadata": {},
   "outputs": [],
   "source": [
    "# choose an arbitrary calcium trace\n",
    "trace_key = dict(key, extract_method=2, trace_id=256)\n",
    "\n",
    "# ...and fetch the trace\n",
    "tr = (preprocess.ComputeTraces.Trace() & trace_key).fetch1['trace']"
   ]
  },
  {
   "cell_type": "markdown",
   "metadata": {},
   "source": [
    "Join the trace and segmentation tables to get more info about this trace and the mask used to generate it"
   ]
  },
  {
   "cell_type": "code",
   "execution_count": null,
   "metadata": {},
   "outputs": [],
   "source": [
    "tr_info = preprocess.ComputeTraces.Trace() * preprocess.ExtractRaw.GalvoROI() & trace_key\n",
    "tr_info"
   ]
  },
  {
   "cell_type": "markdown",
   "metadata": {},
   "source": [
    "...and fetch the trace and slice number for the single trace  from the joined tables using fetch1"
   ]
  },
  {
   "cell_type": "code",
   "execution_count": null,
   "metadata": {},
   "outputs": [],
   "source": [
    "tr, slice_no = (preprocess.ComputeTraces.Trace() * preprocess.ExtractRaw.GalvoROI() \n",
    "                & trace_key).fetch1['trace','slice']"
   ]
  },
  {
   "cell_type": "markdown",
   "metadata": {},
   "source": [
    "Fetch the imaging frame times on the behavior clock and the number of slices per scan"
   ]
  },
  {
   "cell_type": "code",
   "execution_count": null,
   "metadata": {},
   "outputs": [],
   "source": [
    "ft, nslices = (preprocess.BehaviorSync() * preprocess.Prepare.Galvo() \n",
    "               & key).fetch1['frame_times','nslices']"
   ]
  },
  {
   "cell_type": "markdown",
   "metadata": {},
   "source": [
    "In a single scan with 3 slices, imaging frames are collected from slice 1, 2, 3, 1, 2, 3...\n",
    "\n",
    "So there are `nslices * length(tr)` frame times"
   ]
  },
  {
   "cell_type": "code",
   "execution_count": null,
   "metadata": {},
   "outputs": [],
   "source": [
    "assert nslices*len(tr)==len(ft),\\\n",
    "            'You should never see this message unless the scan was aborted'"
   ]
  },
  {
   "cell_type": "code",
   "execution_count": null,
   "metadata": {},
   "outputs": [],
   "source": [
    "# get the frame times for this slice\n",
    "ft_slice = ft[slice_no-1::nslices] # slices are numbered 1 based\n",
    "\n",
    "\n",
    "# Plot the trace to the pupil plot with some scaling\n",
    "plt.plot(et,r)\n",
    "plt.plot(et,xy)\n",
    "plt.plot(ft_slice,tr/tr.min()*20-60)"
   ]
  },
  {
   "cell_type": "markdown",
   "metadata": {},
   "source": [
    "## Visual stimulus"
   ]
  },
  {
   "cell_type": "code",
   "execution_count": null,
   "metadata": {},
   "outputs": [],
   "source": [
    "# fetch the frame times on the visual stimulus clock\n",
    "vt = (preprocess.Sync() & key).fetch1['frame_times'].squeeze()\n",
    "vt_slice = vt[slice_no-1::nslices]\n",
    "\n",
    "# get the trials and for this scan and their flip times\n",
    "flip_times = (vis.Trial() * preprocess.Sync() & key \n",
    "          & 'trial_idx > first_trial and trial_idx < last_trial').fetch['flip_times']"
   ]
  },
  {
   "cell_type": "code",
   "execution_count": null,
   "metadata": {},
   "outputs": [],
   "source": [
    "plt.plot(et,r)\n",
    "plt.plot(et,xy)\n",
    "plt.plot(ft_slice,tr/tr.min()*20-60)\n",
    "\n",
    "for flip_time in flip_times:\n",
    "    # Get the imaging frame where the vis stim trial started\n",
    "    \n",
    "    start_idx = np.where(vt_slice > flip_time[0,0])[0][0]\n",
    "    \n",
    "    # Use that frame to index into the times on the behavior clock\n",
    "    plt.plot(ft_slice[start_idx],150,'ok', mfc='orange', ms=4)\n",
    "\n",
    "\n",
    "plt.legend(['Pupil Radius (pxls)', 'Pupil X (pxls)','Pupil Y (pxls)',\n",
    "            'dF/F (scaled)', 'Vis Trial Start'], bbox_to_anchor=(1.4,1),\n",
    "          bbox_transform=plt.gca().transAxes)\n",
    "plt.xlabel('time on behavior clock (s)')"
   ]
  },
  {
   "cell_type": "code",
   "execution_count": null,
   "metadata": {},
   "outputs": [],
   "source": []
  }
 ],
 "metadata": {
  "kernelspec": {
   "display_name": "Python 3",
   "language": "python",
   "name": "python3"
  },
  "language_info": {
   "codemirror_mode": {
    "name": "ipython",
    "version": 3.0
   },
   "file_extension": ".py",
   "mimetype": "text/x-python",
   "name": "python",
   "nbconvert_exporter": "python",
   "pygments_lexer": "ipython3",
   "version": "3.5.2"
  }
 },
 "nbformat": 4,
 "nbformat_minor": 0
}
